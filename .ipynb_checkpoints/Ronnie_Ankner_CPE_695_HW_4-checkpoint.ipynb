{
 "cells": [
  {
   "cell_type": "code",
   "execution_count": 1,
   "metadata": {},
   "outputs": [
    {
     "name": "stdout",
     "output_type": "stream",
     "text": [
      "<class 'pandas.core.frame.DataFrame'>\n",
      "RangeIndex: 1046 entries, 0 to 1045\n",
      "Data columns (total 5 columns):\n",
      "pclass      1046 non-null int64\n",
      "sex         1046 non-null int64\n",
      "age         1046 non-null float64\n",
      "sibsp       1046 non-null int64\n",
      "survived    1046 non-null int64\n",
      "dtypes: float64(1), int64(4)\n",
      "memory usage: 41.0 KB\n"
     ]
    },
    {
     "data": {
      "text/html": [
       "<div>\n",
       "<style scoped>\n",
       "    .dataframe tbody tr th:only-of-type {\n",
       "        vertical-align: middle;\n",
       "    }\n",
       "\n",
       "    .dataframe tbody tr th {\n",
       "        vertical-align: top;\n",
       "    }\n",
       "\n",
       "    .dataframe thead th {\n",
       "        text-align: right;\n",
       "    }\n",
       "</style>\n",
       "<table border=\"1\" class=\"dataframe\">\n",
       "  <thead>\n",
       "    <tr style=\"text-align: right;\">\n",
       "      <th></th>\n",
       "      <th>pclass</th>\n",
       "      <th>sex</th>\n",
       "      <th>age</th>\n",
       "      <th>sibsp</th>\n",
       "      <th>survived</th>\n",
       "    </tr>\n",
       "  </thead>\n",
       "  <tbody>\n",
       "    <tr>\n",
       "      <td>0</td>\n",
       "      <td>0</td>\n",
       "      <td>0</td>\n",
       "      <td>29.0000</td>\n",
       "      <td>0</td>\n",
       "      <td>1</td>\n",
       "    </tr>\n",
       "    <tr>\n",
       "      <td>1</td>\n",
       "      <td>0</td>\n",
       "      <td>1</td>\n",
       "      <td>0.9167</td>\n",
       "      <td>1</td>\n",
       "      <td>1</td>\n",
       "    </tr>\n",
       "    <tr>\n",
       "      <td>2</td>\n",
       "      <td>0</td>\n",
       "      <td>0</td>\n",
       "      <td>2.0000</td>\n",
       "      <td>1</td>\n",
       "      <td>0</td>\n",
       "    </tr>\n",
       "    <tr>\n",
       "      <td>3</td>\n",
       "      <td>0</td>\n",
       "      <td>1</td>\n",
       "      <td>30.0000</td>\n",
       "      <td>1</td>\n",
       "      <td>0</td>\n",
       "    </tr>\n",
       "    <tr>\n",
       "      <td>4</td>\n",
       "      <td>0</td>\n",
       "      <td>0</td>\n",
       "      <td>25.0000</td>\n",
       "      <td>1</td>\n",
       "      <td>0</td>\n",
       "    </tr>\n",
       "    <tr>\n",
       "      <td>5</td>\n",
       "      <td>0</td>\n",
       "      <td>1</td>\n",
       "      <td>48.0000</td>\n",
       "      <td>0</td>\n",
       "      <td>1</td>\n",
       "    </tr>\n",
       "    <tr>\n",
       "      <td>6</td>\n",
       "      <td>0</td>\n",
       "      <td>0</td>\n",
       "      <td>63.0000</td>\n",
       "      <td>1</td>\n",
       "      <td>1</td>\n",
       "    </tr>\n",
       "    <tr>\n",
       "      <td>7</td>\n",
       "      <td>0</td>\n",
       "      <td>1</td>\n",
       "      <td>39.0000</td>\n",
       "      <td>0</td>\n",
       "      <td>0</td>\n",
       "    </tr>\n",
       "    <tr>\n",
       "      <td>8</td>\n",
       "      <td>0</td>\n",
       "      <td>0</td>\n",
       "      <td>53.0000</td>\n",
       "      <td>2</td>\n",
       "      <td>1</td>\n",
       "    </tr>\n",
       "    <tr>\n",
       "      <td>9</td>\n",
       "      <td>0</td>\n",
       "      <td>1</td>\n",
       "      <td>71.0000</td>\n",
       "      <td>0</td>\n",
       "      <td>0</td>\n",
       "    </tr>\n",
       "  </tbody>\n",
       "</table>\n",
       "</div>"
      ],
      "text/plain": [
       "   pclass  sex      age  sibsp  survived\n",
       "0       0    0  29.0000      0         1\n",
       "1       0    1   0.9167      1         1\n",
       "2       0    0   2.0000      1         0\n",
       "3       0    1  30.0000      1         0\n",
       "4       0    0  25.0000      1         0\n",
       "5       0    1  48.0000      0         1\n",
       "6       0    0  63.0000      1         1\n",
       "7       0    1  39.0000      0         0\n",
       "8       0    0  53.0000      2         1\n",
       "9       0    1  71.0000      0         0"
      ]
     },
     "execution_count": 1,
     "metadata": {},
     "output_type": "execute_result"
    }
   ],
   "source": [
    "#================ Importing the data from CSV with pandas ===========\n",
    "import pandas as pd\n",
    "import numpy as np\n",
    "\n",
    "titanic_data = pd.read_csv('Titanic.csv')\n",
    "\n",
    "titanic_data.drop(columns=['Unnamed: 0'], inplace=True)\n",
    "titanic_data = titanic_data[['pclass', 'sex', 'age', 'sibsp', 'survived']]\n",
    "titanic_data.dropna(axis=0, inplace=True)\n",
    "\n",
    "replace_sex = {'female': int(0), 'male': int(1)}\n",
    "replace_pclass = {'1st':int(0), '2nd':int(1), '3rd':int(2)}\n",
    "\n",
    "titanic_data[['pclass']] = titanic_data[['pclass']].replace(replace_pclass)\n",
    "titanic_data[['sex']] = titanic_data[['sex']].replace(replace_sex)\n",
    "\n",
    "titanic_data.reset_index(inplace=True, drop=True)\n",
    "titanic_data.info()\n",
    "titanic_data.head(10)"
   ]
  },
  {
   "cell_type": "code",
   "execution_count": 47,
   "metadata": {},
   "outputs": [
    {
     "name": "stdout",
     "output_type": "stream",
     "text": [
      "Good Split\n",
      "\n",
      "Train Set Size: 69.98%\n",
      "Test Set Size:  30.02%\n",
      "\n",
      "Overall Survived:   40.82%\n",
      "Training Survived:  42.35%\n",
      "Test Survived:      37.26%\n",
      "\n",
      "Training Set Preview\n",
      "     pclass       sex       age     sibsp\n",
      "0 -1.409505 -1.270545 -0.093688 -0.550631\n",
      "1 -1.409505  0.787064 -0.023584  0.556682\n",
      "2 -1.409505  0.787064  1.238302 -0.550631\n",
      "3 -1.409505 -1.270545  2.289873  0.556682\n",
      "4 -1.409505  0.787064  0.607359 -0.550631\n",
      "\n",
      "Test Set Preview\n",
      "     pclass       sex       age     sibsp\n",
      "0 -1.499854  0.724066 -1.900997  0.519707\n",
      "1 -1.499854 -1.381089 -1.827193  0.519707\n",
      "2 -1.499854 -1.381089 -0.260237  0.519707\n",
      "3 -1.499854 -1.381089 -0.737137  0.519707\n",
      "4 -1.499854  0.724066 -0.260237  0.519707\n"
     ]
    }
   ],
   "source": [
    "#Create Training and Test sets\n",
    "from random import sample\n",
    "from sklearn.preprocessing import StandardScaler\n",
    "\n",
    "sc = StandardScaler()\n",
    "\n",
    "def scale_data(frame):\n",
    "    cols = frame.columns\n",
    "    frame = pd.DataFrame(sc.fit_transform(frame))\n",
    "    frame.columns = cols\n",
    "    \n",
    "    return frame\n",
    "\n",
    "\n",
    "\n",
    "data_points = titanic_data.shape[0]\n",
    "\n",
    "#Create Training_list\n",
    "training_list = sample(range(data_points), int(0.7*data_points))\n",
    "training_list.sort()\n",
    "\n",
    "#Create Test List\n",
    "full = [x for x in range(0,data_points)]\n",
    "full_set = set(full)\n",
    "test_list = list(full_set - set(training_list))\n",
    "test_list.sort()\n",
    "\n",
    "training_set = titanic_data.iloc[training_list]\n",
    "test_set = titanic_data.iloc[test_list]\n",
    "\n",
    "training_set.reset_index(inplace=True, drop=True)\n",
    "test_set.reset_index(inplace=True, drop=True)\n",
    "\n",
    "if (training_set.shape[0] + test_set.shape[0]) == data_points:\n",
    "    print(\"Good Split\")\n",
    "    features = ['pclass', 'sex', 'age', 'sibsp']\n",
    "    target = 'survived'\n",
    "\n",
    "\n",
    "    X = training_set[features]\n",
    "    X = scale_data(X)\n",
    "    Y = training_set[target]\n",
    "\n",
    "    X_test = test_set[features]\n",
    "    X_test = scale_data(X_test)\n",
    "    Y_test = test_set[target]\n",
    "    \n",
    "\n",
    "    print(\"\\nTrain Set Size: %.2f%%\"%(X.shape[0]*100/titanic_data.shape[0]))\n",
    "    print(\"Test Set Size:  %.2f%%\"%(X_test.shape[0]*100/titanic_data.shape[0]))\n",
    "    \n",
    "    survived = np.sum(titanic_data['survived'].to_numpy())\n",
    "    total = len(titanic_data['survived'].to_numpy())\n",
    "    print(\"\\nOverall Survived:   %.2f%%\"%(survived*100/total))\n",
    "    \n",
    "    survived = np.sum(Y.to_numpy())\n",
    "    total = len(Y.to_numpy())\n",
    "    print(\"Training Survived:  %.2f%%\"%(survived*100/total))\n",
    "  \n",
    "    survived = np.sum(Y_test.to_numpy())\n",
    "    total = len(Y_test.to_numpy())\n",
    "    print(\"Test Survived:      %.2f%%\"%(survived*100/total))\n",
    "    \n",
    "    print(\"\\nTraining Set Preview\")\n",
    "    print(X.head(5))\n",
    "    print(\"\\nTest Set Preview\")\n",
    "    print(X_test.head(5))\n",
    "    \n",
    "else:\n",
    "    print(\"ERROR: SOMETHING WENT WRONG\")\n"
   ]
  },
  {
   "cell_type": "code",
   "execution_count": 3,
   "metadata": {},
   "outputs": [],
   "source": [
    "#=============== Print out Accuracy metrics =======================\n",
    "def construct_confusion(truth, prediction):\n",
    "    #Construct Confusion matrix\n",
    "    confusion = np.array([[0,0],[0,0]])\n",
    "    for i in range(0, len(truth)):\n",
    "        if (truth[i] == 0):\n",
    "            if prediction[i] == 0:\n",
    "                confusion[0,0] += 1\n",
    "            else:\n",
    "                confusion[0,1] += 1\n",
    "        else:\n",
    "            if prediction[i] == 0:\n",
    "                confusion[1,0] += 1\n",
    "            else:\n",
    "                confusion[1,1] += 1\n",
    "                \n",
    "    return confusion/len(truth)\n",
    "\n",
    "def print_confusion(confusion):\n",
    "    print(\"\\n   Predicted Class\")\n",
    "    print(\"      0  |   1\")\n",
    "    print(\"0 | %.2f | %.2f |\"%(confusion[0,0], confusion[0,1]))\n",
    "    print(\"1 | %.2f | %.2f |\\n\"%(confusion[1,0], confusion[1,1]))"
   ]
  },
  {
   "cell_type": "code",
   "execution_count": 7,
   "metadata": {
    "scrolled": true
   },
   "outputs": [
    {
     "name": "stdout",
     "output_type": "stream",
     "text": [
      "Training 20 Neurons\n",
      "Training 40 Neurons\n",
      "Training 60 Neurons\n",
      "Training 80 Neurons\n",
      "Training 100 Neurons\n",
      "Training 120 Neurons\n",
      "Training 140 Neurons\n",
      "Training 160 Neurons\n",
      "Training 180 Neurons\n",
      "Training 200 Neurons\n",
      "Training 220 Neurons\n",
      "Training 240 Neurons\n",
      "Training 260 Neurons\n",
      "Training 280 Neurons\n",
      "Training 300 Neurons\n",
      "Training 320 Neurons\n",
      "Training 340 Neurons\n",
      "Training 360 Neurons\n",
      "Training 380 Neurons\n",
      "Training 400 Neurons\n",
      "Training 420 Neurons\n",
      "Training 440 Neurons\n",
      "Training 460 Neurons\n",
      "Training 480 Neurons\n",
      "Training 500 Neurons\n",
      "Training 520 Neurons\n",
      "Training 540 Neurons\n",
      "Training 560 Neurons\n",
      "Training 580 Neurons\n",
      "Training 600 Neurons\n",
      "Training 620 Neurons\n",
      "Training 640 Neurons\n",
      "Training 660 Neurons\n",
      "Training 680 Neurons\n",
      "Training 700 Neurons\n",
      "Training 720 Neurons\n",
      "Training 740 Neurons\n",
      "Training 760 Neurons\n",
      "Training 780 Neurons\n",
      "Training 800 Neurons\n",
      "Training 820 Neurons\n",
      "Training 840 Neurons\n",
      "Training 860 Neurons\n",
      "Training 880 Neurons\n",
      "Training 900 Neurons\n",
      "Training 920 Neurons\n",
      "Training 940 Neurons\n",
      "Training 960 Neurons\n",
      "Training 980 Neurons\n",
      "Training 1000 Neurons\n",
      "Training 1020 Neurons\n",
      "Training 1040 Neurons\n",
      "Training 1060 Neurons\n",
      "Training 1080 Neurons\n",
      "Training 1100 Neurons\n",
      "Training 1120 Neurons\n",
      "Training 1140 Neurons\n",
      "Training 1160 Neurons\n",
      "Training 1180 Neurons\n",
      "Training 1200 Neurons\n",
      "Training 1220 Neurons\n",
      "Training 1240 Neurons\n",
      "Training 1260 Neurons\n",
      "Training 1280 Neurons\n",
      "Training 1300 Neurons\n",
      "Training 1320 Neurons\n",
      "Training 1340 Neurons\n",
      "Training 1360 Neurons\n",
      "Training 1380 Neurons\n",
      "Training 1400 Neurons\n",
      "Training 1420 Neurons\n",
      "Training 1440 Neurons\n",
      "Training 1460 Neurons\n",
      "Training 1480 Neurons\n",
      "Training 1500 Neurons\n",
      "Training 1520 Neurons\n",
      "Training 1540 Neurons\n",
      "Training 1560 Neurons\n",
      "Training 1580 Neurons\n",
      "Training 1600 Neurons\n",
      "Training 1620 Neurons\n",
      "Training 1640 Neurons\n",
      "Training 1660 Neurons\n",
      "Training 1680 Neurons\n",
      "Training 1700 Neurons\n",
      "Training 1720 Neurons\n",
      "Training 1740 Neurons\n",
      "Training 1760 Neurons\n",
      "Training 1780 Neurons\n",
      "Training 1800 Neurons\n",
      "Training 1820 Neurons\n",
      "Training 1840 Neurons\n",
      "Training 1860 Neurons\n",
      "Training 1880 Neurons\n",
      "Training 1900 Neurons\n",
      "Training 1920 Neurons\n",
      "Training 1940 Neurons\n",
      "Training 1960 Neurons\n",
      "Training 1980 Neurons\n",
      "Training 2000 Neurons\n",
      "Training 2020 Neurons\n",
      "Training 2040 Neurons\n",
      "Training 2060 Neurons\n",
      "Training 2080 Neurons\n",
      "Training 2100 Neurons\n",
      "Training 2120 Neurons\n",
      "Training 2140 Neurons\n",
      "Training 2160 Neurons\n",
      "Training 2180 Neurons\n",
      "Training 2200 Neurons\n",
      "Training 2220 Neurons\n",
      "Training 2240 Neurons\n",
      "Training 2260 Neurons\n",
      "Training 2280 Neurons\n",
      "Training 2300 Neurons\n",
      "Training 2320 Neurons\n",
      "Training 2340 Neurons\n",
      "Training 2360 Neurons\n",
      "Training 2380 Neurons\n",
      "Training 2400 Neurons\n",
      "Training 2420 Neurons\n",
      "Training 2440 Neurons\n",
      "Training 2460 Neurons\n",
      "Training 2480 Neurons\n",
      "Training 2500 Neurons\n",
      "Training 2520 Neurons\n",
      "Training 2540 Neurons\n",
      "Training 2560 Neurons\n",
      "Training 2580 Neurons\n",
      "Training 2600 Neurons\n",
      "Training 2620 Neurons\n",
      "Training 2640 Neurons\n",
      "Training 2660 Neurons\n",
      "Training 2680 Neurons\n",
      "Training 2700 Neurons\n",
      "Training 2720 Neurons\n",
      "Training 2740 Neurons\n",
      "Training 2760 Neurons\n",
      "Training 2780 Neurons\n",
      "Training 2800 Neurons\n",
      "Training 2820 Neurons\n",
      "Training 2840 Neurons\n",
      "Training 2860 Neurons\n",
      "Training 2880 Neurons\n",
      "Training 2900 Neurons\n",
      "Training 2920 Neurons\n",
      "Training 2940 Neurons\n",
      "Training 2960 Neurons\n",
      "Training 2980 Neurons\n"
     ]
    },
    {
     "data": {
      "image/png": "[encoded data removed]",
      "text/plain": [
       "<Figure size 432x288 with 1 Axes>"
      ]
     },
     "metadata": {
      "needs_background": "light"
     },
     "output_type": "display_data"
    }
   ],
   "source": [
    "# ====== TESTING BEST ACCURACY VS CHOICE OF SINGLE LAYER NEURONS ===\n",
    "from sklearn.neural_network import MLPClassifier\n",
    "import matplotlib.pyplot as plt\n",
    "\n",
    "neurons = [30*x for x in range(1,100)]\n",
    "training_acc = []\n",
    "test_acc = []\n",
    "\n",
    "for neuron in neurons:\n",
    "    \n",
    "    print(\"Training %d Neurons\"%(neuron))\n",
    "    clf = MLPClassifier(\n",
    "        hidden_layer_sizes = (neuron,),\n",
    "        solver='sgd',\n",
    "        activation='logistic',\n",
    "        learning_rate='constant',\n",
    "        learning_rate_init=0.01,\n",
    "        verbose=False,\n",
    "        momentum=0.5,\n",
    "        max_iter = 10000,\n",
    "        random_state=1\n",
    "    )\n",
    "\n",
    "    clf.fit(X,Y)\n",
    "\n",
    "    prediction = clf.predict(X)\n",
    "    truth = Y.to_numpy()\n",
    "    diff = truth - prediction\n",
    "    \n",
    "    training_acc.append(100 - np.sum(np.abs(diff))*100/len(truth))\n",
    "\n",
    "    prediction = clf.predict(X_test)\n",
    "    truth = Y_test.to_numpy()\n",
    "    diff = truth - prediction\n",
    "    \n",
    "    test_acc.append(100 - np.sum(np.abs(diff))*100/len(truth))\n",
    "\n",
    "    \n",
    "plt.plot(neurons, training_acc, 'go', neurons, test_acc, 'r*')\n",
    "plt.show()\n",
    "    "
   ]
  },
  {
   "cell_type": "code",
   "execution_count": 9,
   "metadata": {
    "scrolled": true
   },
   "outputs": [
    {
     "name": "stdout",
     "output_type": "stream",
     "text": [
      "Training 30 Neurons in Second Layer\n",
      "Training 60 Neurons in Second Layer\n",
      "Training 90 Neurons in Second Layer\n",
      "Training 120 Neurons in Second Layer\n",
      "Training 150 Neurons in Second Layer\n",
      "Training 180 Neurons in Second Layer\n",
      "Training 210 Neurons in Second Layer\n",
      "Training 240 Neurons in Second Layer\n",
      "Training 270 Neurons in Second Layer\n",
      "Training 300 Neurons in Second Layer\n",
      "Training 330 Neurons in Second Layer\n",
      "Training 360 Neurons in Second Layer\n",
      "Training 390 Neurons in Second Layer\n",
      "Training 420 Neurons in Second Layer\n",
      "Training 450 Neurons in Second Layer\n",
      "Training 480 Neurons in Second Layer\n",
      "Training 510 Neurons in Second Layer\n",
      "Training 540 Neurons in Second Layer\n",
      "Training 570 Neurons in Second Layer\n",
      "Training 600 Neurons in Second Layer\n",
      "Training 630 Neurons in Second Layer\n",
      "Training 660 Neurons in Second Layer\n",
      "Training 690 Neurons in Second Layer\n",
      "Training 720 Neurons in Second Layer\n",
      "Training 750 Neurons in Second Layer\n",
      "Training 780 Neurons in Second Layer\n",
      "Training 810 Neurons in Second Layer\n",
      "Training 840 Neurons in Second Layer\n",
      "Training 870 Neurons in Second Layer\n",
      "Training 900 Neurons in Second Layer\n",
      "Training 930 Neurons in Second Layer\n",
      "Training 960 Neurons in Second Layer\n",
      "Training 990 Neurons in Second Layer\n",
      "Training 1020 Neurons in Second Layer\n",
      "Training 1050 Neurons in Second Layer\n",
      "Training 1080 Neurons in Second Layer\n",
      "Training 1110 Neurons in Second Layer\n",
      "Training 1140 Neurons in Second Layer\n",
      "Training 1170 Neurons in Second Layer\n",
      "Training 1200 Neurons in Second Layer\n",
      "Training 1230 Neurons in Second Layer\n",
      "Training 1260 Neurons in Second Layer\n",
      "Training 1290 Neurons in Second Layer\n",
      "Training 1320 Neurons in Second Layer\n",
      "Training 1350 Neurons in Second Layer\n",
      "Training 1380 Neurons in Second Layer\n",
      "Training 1410 Neurons in Second Layer\n",
      "Training 1440 Neurons in Second Layer\n",
      "Training 1470 Neurons in Second Layer\n",
      "Training 1500 Neurons in Second Layer\n",
      "Training 1530 Neurons in Second Layer\n",
      "Training 1560 Neurons in Second Layer\n",
      "Training 1590 Neurons in Second Layer\n",
      "Training 1620 Neurons in Second Layer\n",
      "Training 1650 Neurons in Second Layer\n",
      "Training 1680 Neurons in Second Layer\n",
      "Training 1710 Neurons in Second Layer\n",
      "Training 1740 Neurons in Second Layer\n",
      "Training 1770 Neurons in Second Layer\n"
     ]
    },
    {
     "data": {
      "image/png": "[encoded data removed]",
      "text/plain": [
       "<Figure size 432x288 with 1 Axes>"
      ]
     },
     "metadata": {
      "needs_background": "light"
     },
     "output_type": "display_data"
    }
   ],
   "source": [
    "# ============ Determine Best number of neurons for 2nd layer ========\n",
    "neurons = [30*x for x in range(1,60)]\n",
    "training_acc_2 = []\n",
    "test_acc_2 = []\n",
    "\n",
    "for neuron in neurons:\n",
    "    \n",
    "    print(\"Training %d Neurons in Second Layer\"%(neuron))\n",
    "    clf = MLPClassifier(\n",
    "        hidden_layer_sizes = (1000,neuron),\n",
    "        solver='sgd',\n",
    "        activation='logistic',\n",
    "        learning_rate='constant',\n",
    "        learning_rate_init=0.01,\n",
    "        verbose=False,\n",
    "        momentum=0.5,\n",
    "        max_iter = 10000,\n",
    "        random_state=1\n",
    "    )\n",
    "\n",
    "    clf.fit(X,Y)\n",
    "\n",
    "    prediction = clf.predict(X)\n",
    "    truth = Y.to_numpy()\n",
    "    diff = truth - prediction\n",
    "    \n",
    "    training_acc_2.append(100 - np.sum(np.abs(diff))*100/len(truth))\n",
    "\n",
    "    prediction = clf.predict(X_test)\n",
    "    truth = Y_test.to_numpy()\n",
    "    diff = truth - prediction\n",
    "    \n",
    "    test_acc_2.append(100 - np.sum(np.abs(diff))*100/len(truth))\n",
    "\n",
    "    \n",
    "plt.plot(neurons, training_acc_2, 'go', neurons, test_acc_2, 'r*')\n",
    "plt.show()"
   ]
  },
  {
   "cell_type": "code",
   "execution_count": 51,
   "metadata": {},
   "outputs": [
    {
     "name": "stdout",
     "output_type": "stream",
     "text": [
      "============== SGD Solver ===================\n",
      "Training Accuracy: 78.42%\n",
      "\n",
      "   Predicted Class\n",
      "      0  |   1\n",
      "0 | 0.52 | 0.05 |\n",
      "1 | 0.16 | 0.26 |\n",
      "\n",
      "Test Accuracy: 82.17%\n",
      "\n",
      "   Predicted Class\n",
      "      0  |   1\n",
      "0 | 0.57 | 0.06 |\n",
      "1 | 0.12 | 0.25 |\n",
      "\n",
      "In-Sample Percent Survivor: 61.29%\n",
      "In-Sample Percent Fatality: 91.00%\n",
      "Out-Sample Percent Survivor: 68.38%\n",
      "Out-Sample Percent Fatality: 90.36%\n",
      "\n",
      "============== Adam Solver ===================\n",
      "Training Accuracy: 77.19%\n",
      "\n",
      "   Predicted Class\n",
      "      0  |   1\n",
      "0 | 0.47 | 0.10 |\n",
      "1 | 0.13 | 0.30 |\n",
      "\n",
      "Test Accuracy: 79.94%\n",
      "\n",
      "   Predicted Class\n",
      "      0  |   1\n",
      "0 | 0.51 | 0.12 |\n",
      "1 | 0.08 | 0.29 |\n",
      "\n",
      "In-Sample Percent Survivor: 70.32%\n",
      "In-Sample Percent Fatality: 82.23%\n",
      "Out-Sample Percent Survivor: 77.78%\n",
      "Out-Sample Percent Fatality: 81.22%\n"
     ]
    }
   ],
   "source": [
    "def print_accuracy(trained_model, X, X_test, Y, Y_test):\n",
    "    prediction = trained_model.predict(X)\n",
    "    truth = Y.to_numpy()\n",
    "    diff = truth - prediction\n",
    "\n",
    "    confusion_train = construct_confusion(truth, prediction)\n",
    "\n",
    "    print(\"Training Accuracy: %.2f%%\"%(100 - np.sum(np.abs(diff))*100/len(truth)))\n",
    "    print_confusion(confusion_train)\n",
    "\n",
    "    prediction = trained_model.predict(X_test)\n",
    "    truth = Y_test.to_numpy()\n",
    "    diff = truth - prediction\n",
    "\n",
    "    confusion_test = construct_confusion(truth, prediction)\n",
    "\n",
    "    print(\"Test Accuracy: %.2f%%\"%(100 - np.sum(np.abs(diff))*100/len(truth)))\n",
    "    print_confusion(confusion_test)\n",
    "\n",
    "    print(\"In-Sample Percent Survivor: %.2f%%\"%((confusion_train[1,1]*100)/(confusion_train[1,1]+confusion_train[1,0])))\n",
    "    print(\"In-Sample Percent Fatality: %.2f%%\"%((confusion_train[0,0]*100)/(confusion_train[0,1]+confusion_train[0,0])))\n",
    "    print(\"Out-Sample Percent Survivor: %.2f%%\"%((confusion_test[1,1]*100)/(confusion_test[1,1]+confusion_test[1,0])))\n",
    "    print(\"Out-Sample Percent Fatality: %.2f%%\"%((confusion_test[0,0]*100)/(confusion_test[0,1]+confusion_test[0,0])))\n",
    "    \n",
    "#Seemingly best choice is 1\n",
    "print('============== SGD Solver ===================')\n",
    "clf = MLPClassifier(\n",
    "        hidden_layer_sizes = (1,),\n",
    "        solver='sgd',\n",
    "        activation='logistic',\n",
    "        learning_rate='adaptive',\n",
    "        learning_rate_init=1,\n",
    "        verbose=False,\n",
    "        momentum=0.9,\n",
    "        max_iter = 10000,\n",
    "        random_state=1\n",
    "    )\n",
    "\n",
    "clf.fit(X,Y)\n",
    "print_accuracy(clf, X, X_test, Y, Y_test)\n",
    "\n",
    "print('\\n============== Adam Solver ===================')\n",
    "clf = MLPClassifier(\n",
    "        hidden_layer_sizes = (1,),\n",
    "        solver='adam',\n",
    "        activation='logistic',\n",
    "        learning_rate='adaptive',\n",
    "        learning_rate_init=1,\n",
    "        verbose=False,\n",
    "        momentum=0.9,\n",
    "        max_iter = 10000,\n",
    "        random_state=1\n",
    "    )\n",
    "\n",
    "clf.fit(X,Y)\n",
    "print_accuracy(clf, X, X_test, Y, Y_test)"
   ]
  },
  {
   "cell_type": "markdown",
   "metadata": {},
   "source": [
    "# Analysis of Resuls (so far)\n",
    "For some reason the data seems to linearly separable with **only one** neuron. Adding more neurons seems to only decrease or maintian the accuracy. Furthermore, adding a second layer of **_any_** size only decreases accuracy and causes the system to guess not survived by default"
   ]
  },
  {
   "cell_type": "code",
   "execution_count": 69,
   "metadata": {},
   "outputs": [
    {
     "name": "stdout",
     "output_type": "stream",
     "text": [
      "\n",
      "PCLASS VS SEX\n"
     ]
    },
    {
     "data": {
      "image/png": "[encoded data removed]",
      "text/plain": [
       "<Figure size 432x288 with 1 Axes>"
      ]
     },
     "metadata": {
      "needs_background": "light"
     },
     "output_type": "display_data"
    },
    {
     "name": "stdout",
     "output_type": "stream",
     "text": [
      "\n",
      "PCLASS VS AGE\n"
     ]
    },
    {
     "data": {
      "image/png": "[encoded data removed]",
      "text/plain": [
       "<Figure size 432x288 with 1 Axes>"
      ]
     },
     "metadata": {
      "needs_background": "light"
     },
     "output_type": "display_data"
    },
    {
     "name": "stdout",
     "output_type": "stream",
     "text": [
      "\n",
      "PCLASS VS SIBSP\n"
     ]
    },
    {
     "data": {
      "image/png": "[encoded data removed]",
      "text/plain": [
       "<Figure size 432x288 with 1 Axes>"
      ]
     },
     "metadata": {
      "needs_background": "light"
     },
     "output_type": "display_data"
    },
    {
     "name": "stdout",
     "output_type": "stream",
     "text": [
      "\n",
      "SEX VS AGE\n"
     ]
    },
    {
     "data": {
      "image/png": "[encoded data removed]",
      "text/plain": [
       "<Figure size 432x288 with 1 Axes>"
      ]
     },
     "metadata": {
      "needs_background": "light"
     },
     "output_type": "display_data"
    },
    {
     "name": "stdout",
     "output_type": "stream",
     "text": [
      "\n",
      "SEX VS SIBSP\n"
     ]
    },
    {
     "data": {
      "image/png": "[encoded data removed]",
      "text/plain": [
       "<Figure size 432x288 with 1 Axes>"
      ]
     },
     "metadata": {
      "needs_background": "light"
     },
     "output_type": "display_data"
    },
    {
     "name": "stdout",
     "output_type": "stream",
     "text": [
      "\n",
      "AGE VS SIBSP\n"
     ]
    },
    {
     "data": {
      "image/png": "[encoded data removed]",
      "text/plain": [
       "<Figure size 432x288 with 1 Axes>"
      ]
     },
     "metadata": {
      "needs_background": "light"
     },
     "output_type": "display_data"
    }
   ],
   "source": [
    "features = ['pclass', 'sex', 'age', 'sibsp']\n",
    "\n",
    "survived = X.loc[training_set['survived'] == 1]\n",
    "survived.reset_index(inplace=True, drop=True)\n",
    "\n",
    "\n",
    "died = X.loc[training_set['survived'] == 0]\n",
    "died.reset_index(inplace=True, drop=True)\n",
    "\n",
    "combinations = [(0,1), (0,2), (0,3), (1,2), (1,3), (2,3)]\n",
    "\n",
    "for comb in combinations:\n",
    "    feat1 = features[comb[0]]\n",
    "    feat2 = features[comb[1]]\n",
    "    print('\\n'+(feat1+\" vs \"+feat2).upper())\n",
    "    plt.plot(survived[feat1], survived[feat2], 'go', died[feat1], died[feat2], 'r*')\n",
    "    plt.show()"
   ]
  },
  {
   "cell_type": "code",
   "execution_count": 85,
   "metadata": {
    "scrolled": false
   },
   "outputs": [
    {
     "name": "stdout",
     "output_type": "stream",
     "text": [
      "Closed form Regression Solution:  [-0.15503087 -0.23888574 -0.08298811 -0.04512366  0.42349727]\n"
     ]
    },
    {
     "name": "stderr",
     "output_type": "stream",
     "text": [
      "/home/ronnie/anaconda3/lib/python3.7/site-packages/ipykernel_launcher.py:11: SettingWithCopyWarning: \n",
      "A value is trying to be set on a copy of a slice from a DataFrame.\n",
      "Try using .loc[row_indexer,col_indexer] = value instead\n",
      "\n",
      "See the caveats in the documentation: http://pandas.pydata.org/pandas-docs/stable/user_guide/indexing.html#returning-a-view-versus-a-copy\n",
      "  # This is added back by InteractiveShellApp.init_path()\n",
      "/home/ronnie/anaconda3/lib/python3.7/site-packages/ipykernel_launcher.py:15: SettingWithCopyWarning: \n",
      "A value is trying to be set on a copy of a slice from a DataFrame.\n",
      "Try using .loc[row_indexer,col_indexer] = value instead\n",
      "\n",
      "See the caveats in the documentation: http://pandas.pydata.org/pandas-docs/stable/user_guide/indexing.html#returning-a-view-versus-a-copy\n",
      "  from ipykernel import kernelapp as app\n"
     ]
    },
    {
     "data": {
      "image/png": "[encoded data removed]",
      "text/plain": [
       "<Figure size 432x288 with 1 Axes>"
      ]
     },
     "metadata": {
      "needs_background": "light"
     },
     "output_type": "display_data"
    }
   ],
   "source": [
    "const = [1]*X.shape[0]\n",
    "new_X = X\n",
    "new_X['const'] = const\n",
    "new_X = new_X.to_numpy()\n",
    "\n",
    "inv = np.linalg.inv(np.dot(new_X.T, new_X))\n",
    "P = np.dot(inv, new_X.T)\n",
    "truth = np.dot(P, Y)\n",
    "print(\"Closed form Regression Solution: \", truth)\n",
    "\n",
    "survived['const'] = [1]*survived.shape[0]\n",
    "survived_np = survived.to_numpy()\n",
    "survived_predict = np.dot(survived_np, truth)\n",
    "\n",
    "died['const'] = [1]*died.shape[0]\n",
    "died_np = died.to_numpy()\n",
    "died_predict = np.dot(died_np, truth)\n",
    "\n",
    "\n",
    "#fig, axes = plt.subplots(nrows=1, ncols=1)\n",
    "#ax0 = axes.flatten()\n",
    "\n",
    "colors = ['green', 'red']\n",
    "plt.hist([survived_predict, died_predict], 20, density=True, histtype='bar', color=colors, label=['survived', 'died'])\n",
    "#plt.hist([survived_predict, died_predict], 20, stacked=True, histtype='step', color=colors, label=['survived', 'died'])\n",
    "plt.legend(prop={'size': 10})\n",
    "plt.show()"
   ]
  },
  {
   "cell_type": "markdown",
   "metadata": {},
   "source": [
    "As shown above, data seems to linearly separable on it's own. By setting a simple threshold, we can classify via bayes rule"
   ]
  },
  {
   "cell_type": "code",
   "execution_count": 84,
   "metadata": {},
   "outputs": [
    {
     "ename": "IndentationError",
     "evalue": "expected an indented block (<ipython-input-84-e49559687b32>, line 16)",
     "output_type": "error",
     "traceback": [
      "\u001b[0;36m  File \u001b[0;32m\"<ipython-input-84-e49559687b32>\"\u001b[0;36m, line \u001b[0;32m16\u001b[0m\n\u001b[0;31m    const = [1]*X_test.shape[0]\u001b[0m\n\u001b[0m                               ^\u001b[0m\n\u001b[0;31mIndentationError\u001b[0m\u001b[0;31m:\u001b[0m expected an indented block\n"
     ]
    }
   ],
   "source": [
    "class regressor_classifier:\n",
    "    \n",
    "    def __init__(self, coeff, thresh):\n",
    "        self.coeff = coeff\n",
    "        self.thresh = thresh\n",
    "        \n",
    "    def predict(self, data_set):\n",
    "        output = np.dot(data_set, self.coeff)\n",
    "        output = output.tolist()\n",
    "        classified = []\n",
    "        for out in output:\n",
    "            if out > self.thresh:\n",
    "                classified.append(1)\n",
    "            else:\n",
    "                classified.append(0)\n",
    "                \n",
    "        return np.array(classified)\n",
    "        \n",
    "        \n",
    "const = [1]*X_test.shape[0]\n",
    "new_X_test = X_test\n",
    "new_X_test['const'] = const\n",
    "\n",
    "trained = rgeressor_classifier(truth, 0.6)\n",
    "print_accuracy(trained, new_X, new_X_test, Y, Y_test)"
   ]
  },
  {
   "cell_type": "code",
   "execution_count": null,
   "metadata": {},
   "outputs": [],
   "source": [
    "    "
   ]
  }
 ],
 "metadata": {
  "kernelspec": {
   "display_name": "Python 3",
   "language": "python",
   "name": "python3"
  },
  "language_info": {
   "codemirror_mode": {
    "name": "ipython",
    "version": 3
   },
   "file_extension": ".py",
   "mimetype": "text/x-python",
   "name": "python",
   "nbconvert_exporter": "python",
   "pygments_lexer": "ipython3",
   "version": "3.7.4"
  }
 },
 "nbformat": 4,
 "nbformat_minor": 2
}
